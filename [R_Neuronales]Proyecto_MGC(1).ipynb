{
  "nbformat": 4,
  "nbformat_minor": 0,
  "metadata": {
    "colab": {
      "provenance": [],
      "collapsed_sections": [
        "fkAqfk8fgpK7",
        "v8HrshvRmq5E",
        "xxcA-Rh2muV7",
        "RV7z7VHrG9TK",
        "BosFBPjT8YER",
        "khy64vD180uD"
      ]
    },
    "kernelspec": {
      "name": "python3",
      "display_name": "Python 3"
    },
    "language_info": {
      "name": "python"
    },
    "gpuClass": "standard"
  },
  "cells": [
    {
      "cell_type": "code",
      "source": [
        "import numpy as np\n",
        "import pandas as pd\n",
        "import matplotlib.pyplot as plt\n",
        "import seaborn as sns\n",
        "from sklearn.model_selection import train_test_split"
      ],
      "metadata": {
        "id": "dzw7hPrJk8Bi"
      },
      "execution_count": null,
      "outputs": []
    },
    {
      "cell_type": "code",
      "source": [
        "import copy"
      ],
      "metadata": {
        "id": "3C-QgIZvEdnn"
      },
      "execution_count": null,
      "outputs": []
    },
    {
      "cell_type": "code",
      "source": [
        "import json\n",
        "import os\n",
        "import math\n",
        "import librosa, librosa.display"
      ],
      "metadata": {
        "id": "e9EzkMc2mJns"
      },
      "execution_count": null,
      "outputs": []
    },
    {
      "cell_type": "code",
      "source": [
        "from google.colab import drive\n",
        "drive.mount('/content/drive',force_remount=True)"
      ],
      "metadata": {
        "id": "mu36y9delIYI"
      },
      "execution_count": null,
      "outputs": []
    },
    {
      "cell_type": "markdown",
      "source": [
        "## Funciones auxiliares"
      ],
      "metadata": {
        "id": "fkAqfk8fgpK7"
      }
    },
    {
      "cell_type": "code",
      "source": [
        "from sklearn.metrics import multilabel_confusion_matrix, ConfusionMatrixDisplay, classification_report\n",
        "from sklearn.metrics import confusion_matrix"
      ],
      "metadata": {
        "id": "bVJrrmr-kUj0"
      },
      "execution_count": null,
      "outputs": []
    },
    {
      "cell_type": "code",
      "source": [
        "def predicted_labels(predictions):\n",
        "    pred_l = []\n",
        "    i = 0\n",
        "    j = 0\n",
        "    for prediction in predictions:\n",
        "        i = 0\n",
        "        j = 0\n",
        "        aux = None\n",
        "        max = None\n",
        "        for prob in prediction:\n",
        "            aux = prob\n",
        "            if i == 0:\n",
        "                max = aux\n",
        "                j = i\n",
        "            else:\n",
        "                if aux > max:\n",
        "                    max = aux\n",
        "                    j = i\n",
        "            i +=1\n",
        "        pred_l.append(j)\n",
        "    return np.array(pred_l)"
      ],
      "metadata": {
        "id": "AsqWP1Cpk00I"
      },
      "execution_count": null,
      "outputs": []
    },
    {
      "cell_type": "code",
      "source": [
        "def show_confusion_matrix(y, labels, predict):\n",
        "  # Compute confusion matrix and normalize\n",
        "  n = len(labels)\n",
        "  plt.figure(figsize=(n,n))\n",
        "  confusion = confusion_matrix(y,predict)\n",
        "  confusion_normalized = confusion / confusion.sum(axis=1)\n",
        "  axis_labels = range(n)\n",
        "  ax = sns.heatmap(\n",
        "      confusion_normalized, xticklabels=axis_labels, yticklabels=axis_labels,\n",
        "      cmap='Blues', annot=True, fmt='.4f', square=True)\n",
        "  plt.title(\"Confusion matrix\")\n",
        "  plt.ylabel(\"True label\")\n",
        "  plt.xlabel(\"Predicted label\")\n",
        "  plt.show()"
      ],
      "metadata": {
        "id": "Ilx17xIrkbE4"
      },
      "execution_count": null,
      "outputs": []
    },
    {
      "cell_type": "code",
      "source": [
        "def display_matriz_confusion(mcs):\n",
        "    n = len(mcs)\n",
        "    s = 5\n",
        "    if n%s == 0:\n",
        "        m = int(n/s)\n",
        "    else:\n",
        "        m = int(n/s)+1\n",
        "    fig, axes = plt.subplots(nrows=m, ncols=s)\n",
        "    fig.set_size_inches(20, 12)\n",
        "    for mc, ax in zip(mcs, axes.flatten()):\n",
        "        disp = ConfusionMatrixDisplay(confusion_matrix=mc)\n",
        "        disp.plot(ax=ax,cmap='Blues')\n",
        "    axes[-1,-1].axis('off')\n",
        "    plt.subplots_adjust(wspace=0.3, hspace=0.3)\n",
        "    plt.show()"
      ],
      "metadata": {
        "id": "pHJFXlD4kdwN"
      },
      "execution_count": null,
      "outputs": []
    },
    {
      "cell_type": "code",
      "source": [
        "\n",
        "def plot_history(history):\n",
        "\n",
        "    fig, axs = plt.subplots(2)\n",
        "\n",
        "    # create accuracy sublpot\n",
        "    axs[0].plot(history.history[\"accuracy\"], label=\"train accuracy\")\n",
        "    axs[0].plot(history.history[\"val_accuracy\"], label=\"test accuracy\")\n",
        "    axs[0].set_ylabel(\"Accuracy\")\n",
        "    axs[0].legend(loc=\"lower right\")\n",
        "    axs[0].set_title(\"Accuracy eval\")\n",
        "\n",
        "    # create error sublpot\n",
        "    axs[1].plot(history.history[\"loss\"], label=\"train error\")\n",
        "    axs[1].plot(history.history[\"val_loss\"], label=\"test error\")\n",
        "    axs[1].set_ylabel(\"Error\")\n",
        "    axs[1].set_xlabel(\"Epoch\")\n",
        "    axs[1].legend(loc=\"upper right\")\n",
        "    axs[1].set_title(\"Error eval\")\n",
        "    \n",
        "    plt.show()"
      ],
      "metadata": {
        "id": "YZnClgsAgofk"
      },
      "execution_count": null,
      "outputs": []
    },
    {
      "cell_type": "markdown",
      "source": [
        "## Download Data"
      ],
      "metadata": {
        "id": "lH11-AJGlVtZ"
      }
    },
    {
      "cell_type": "code",
      "source": [
        "path = \"/content/drive/MyDrive/Colab Notebooks/data/\"\n",
        "JSON_PATH = \"data_complete(1).json\""
      ],
      "metadata": {
        "id": "6S7u37UflMHv"
      },
      "execution_count": null,
      "outputs": []
    },
    {
      "cell_type": "code",
      "source": [
        "SAMPLE_RATE = 22050\n",
        "TRACK_DURATION = 30 # measured in seconds\n",
        "SAMPLES_PER_TRACK = SAMPLE_RATE * TRACK_DURATION"
      ],
      "metadata": {
        "id": "Do91yQ0mmFC8"
      },
      "execution_count": null,
      "outputs": []
    },
    {
      "cell_type": "markdown",
      "source": [
        "Este metodo es para guardar el data que se encuentra en el folder genres_original, el cual contiene 10 subdirectorios con el nombre de cada genero musical y cada uno de estos subdirectorios contiene 100 archivos .wav que contienen 30 seg. de muestra de audio de canciones que son del genero del subdirectorio donde se estan.\n",
        "\n",
        "Aparte de esto con num_segments se divide cada audio en num_segments, es decir si num_segments$=5$, entonces se dividira cada audio en audios de 6 seg, porque cada uno es de 30 seg en total. Esto es para aumentar el dataset num_segments veces.\n",
        "\n",
        "Todo el data se guarda en un .json el cual contendra como raw data el mfcc de cada audio, el mffc consta de parametros como num_mfcc, n_fft y hop_length."
      ],
      "metadata": {
        "id": "x2Gc7Y8t6uRl"
      }
    },
    {
      "cell_type": "code",
      "source": [
        "\n",
        "def save_mfcc(dataset_path, json_path, num_mfcc=13, n_fft=2048, hop_length=512, num_segments=5):\n",
        "    \"\"\"Extracts MFCCs from music dataset and saves them into a json file along with genre labels.\n",
        "        \"\"\"\n",
        "\n",
        "    # dictionary to store data\n",
        "    data = {\n",
        "        \"mapping\": [],\n",
        "        \"labels\": [],\n",
        "        \"mfcc\": []\n",
        "    }\n",
        "\n",
        "    samples_per_segment = int(SAMPLES_PER_TRACK / num_segments)\n",
        "    num_mfcc_vectors_per_segment = math.ceil(samples_per_segment / hop_length)\n",
        "\n",
        "    # loop through all genre sub-folder\n",
        "    for i, (dirpath, dirnames, filenames) in enumerate(os.walk(dataset_path)):\n",
        "\n",
        "       \n",
        "        if dirpath is not dataset_path:\n",
        "\n",
        "            # save genre label (i.e., sub-folder name) in the mapping\n",
        "            semantic_label = dirpath.split(\"/\")[-1]\n",
        "            data[\"mapping\"].append(semantic_label)\n",
        "            print(\"\\nProcessing: {}\".format(semantic_label))\n",
        "\n",
        "            # process all audio by genre dir\n",
        "            for f in filenames:\n",
        "\n",
        "\t\t# load audio file\n",
        "                file_path = os.path.join(dirpath, f)\n",
        "                signal, sample_rate = librosa.load(file_path, sr=SAMPLE_RATE)\n",
        "\n",
        "                # pproceso para dividir los audios\n",
        "                for d in range(num_segments):\n",
        "\n",
        "                    # inicio y fin para dividir los audios en num_segments.\n",
        "                    start = samples_per_segment * d\n",
        "                    finish = start + samples_per_segment\n",
        "\n",
        "                    # extract mfcc\n",
        "                    mfcc = librosa.feature.mfcc(signal[start:finish], sample_rate, n_mfcc=num_mfcc, n_fft=n_fft, hop_length=hop_length)\n",
        "                    mfcc = mfcc.T\n",
        "\n",
        "                    \n",
        "                    if len(mfcc) == num_mfcc_vectors_per_segment:\n",
        "                        data[\"mfcc\"].append(mfcc.tolist())\n",
        "                        data[\"labels\"].append(i-1)\n",
        "                        print(\"{}, segment:{}\".format(file_path, d+1))\n",
        "\n",
        "    # save MFCCs to json file\n",
        "    with open(json_path, \"w\") as fp:\n",
        "        json.dump(data, fp, indent=4)\n",
        "     "
      ],
      "metadata": {
        "id": "FvFtz2hOl-Iq"
      },
      "execution_count": null,
      "outputs": []
    },
    {
      "cell_type": "markdown",
      "source": [
        "# Music Genre Classification"
      ],
      "metadata": {
        "id": "COff7OWvB6Mi"
      }
    },
    {
      "cell_type": "markdown",
      "source": [
        "**DESCRIPCIÓN DEL PROBLEMA**\n",
        "\n",
        "En general, los seres humanos somos buenos para distinguir el título de una canción, el artista que la canta, e incluso su género, escuchando apenas un fragmento de la canción. Esta capacidad ha tratado de ser emulada utilizando redes neuronales. Un ejemplo de su uso es la aplicación móbil Shazam, la cual puede determinar el título y el autor de una canción a partir de un fragmento. Así, este trabajo busca clasificar distintos extractos de pistas musicales de acuerdo a su género musical específico.  "
      ],
      "metadata": {
        "id": "0rvnhaWE-K6k"
      }
    },
    {
      "cell_type": "markdown",
      "source": [
        "**Descripción del Dataset**\n",
        "\n",
        "El Dataset con el que se trabaja es el GTZAN, elaborado por G. Tzanetakis y P. Cook. El Dataset consiste en 10 conjuntos de 100 pistas de audio cada una, con una duración de 30 segundos por pista, de modo que son 1000 pistas de audio en total. Cada conjunto se encuentra asociado a uno de los siguientes 10 géneros musicales: Blues, Clásica, Country, Disco, Hip-Hop, Jazz, Metal, Pop, Reggae y Rock. "
      ],
      "metadata": {
        "id": "fsL2BOk6-QA3"
      }
    },
    {
      "cell_type": "markdown",
      "source": [
        "## PROCESAMIENTO DE LOS ARCHIVOS\n",
        "\n",
        "\n"
      ],
      "metadata": {
        "id": "gWxgRofx-SXZ"
      }
    },
    {
      "cell_type": "markdown",
      "source": [
        "\n",
        "Para entender de manera general cómo se van a procesar las pistas de audio del dataset GTZAN, se muestra un ejemplo con una sola pista de audio. "
      ],
      "metadata": {
        "id": "qQ6VxAvt--jP"
      }
    },
    {
      "cell_type": "code",
      "source": [
        "path_example = path + \"genres_original/disco/disco.00093.wav\""
      ],
      "metadata": {
        "id": "ECDYQY17_H8S"
      },
      "execution_count": null,
      "outputs": []
    },
    {
      "cell_type": "code",
      "source": [
        "#se carga un archivo de la sub-carpeta de música disco\n",
        "ejemplo = path_example"
      ],
      "metadata": {
        "id": "8LjYBNgK_FT3"
      },
      "execution_count": null,
      "outputs": []
    },
    {
      "cell_type": "code",
      "source": [
        "# se carga el archivo con una frecuencia de muestreo de 22050 \n",
        "signal, sample_rate = librosa.load(ejemplo)"
      ],
      "metadata": {
        "id": "LMIIHtSd_NZJ"
      },
      "execution_count": null,
      "outputs": []
    },
    {
      "cell_type": "code",
      "source": [
        "FIG_SIZE = (16,8)"
      ],
      "metadata": {
        "id": "Jl3l3a0indms"
      },
      "execution_count": null,
      "outputs": []
    },
    {
      "cell_type": "markdown",
      "source": [
        "La frecuencia de muestreo es el número de muestras por unidad de tiempo que se toman de una señal continua para producir una señal discreta, durante el proceso necesario de conversión. A continuación se grafica lo obtenido anteriormente como una forma de onda. "
      ],
      "metadata": {
        "id": "7OZN2JDZ_Amw"
      }
    },
    {
      "cell_type": "code",
      "source": [
        "plt.figure(figsize= (14,8))\n",
        "librosa.display.waveplot(signal, sample_rate, alpha = 0.5)\n",
        "plt.xlabel(\"Time (s)\")\n",
        "plt.ylabel(\"Amplitude\")\n",
        "plt.title(\"Waveform\")"
      ],
      "metadata": {
        "id": "MYZNgRAg_Wil"
      },
      "execution_count": null,
      "outputs": []
    },
    {
      "cell_type": "markdown",
      "source": [
        "Dado que la forma de conversión obtenida anteriormente no es la más óptima para trabajar las pistas de audio, se realiza un proceso conocido como transformada de Fourier, en el cual se pasa del dominio de tiempo a un dominio de frecuencias. Se muestra la gráfica respectiva a dicha conversión. "
      ],
      "metadata": {
        "id": "5_dwyxH__ZNe"
      }
    },
    {
      "cell_type": "code",
      "source": [
        "#transformada de Fourier\n",
        "fft = np.fft.fft(signal)\n",
        "#magnitudes de los fft\n",
        "spectrum = np.abs(fft)\n",
        "f = np.linspace(0, sample_rate, len(spectrum))"
      ],
      "metadata": {
        "id": "xZiVXDQt_cWl"
      },
      "execution_count": null,
      "outputs": []
    },
    {
      "cell_type": "code",
      "source": [
        "plt.figure(figsize= FIG_SIZE)\n",
        "plt.plot(f, spectrum, alpha=0.5)\n",
        "plt.xlabel(\"Frequency\")\n",
        "plt.ylabel(\"Magnitude\")\n",
        "plt.title(\"Power Spectrum\")\n"
      ],
      "metadata": {
        "id": "RP4aOpK2_ne3"
      },
      "execution_count": null,
      "outputs": []
    },
    {
      "cell_type": "markdown",
      "source": [
        "Ya que se mostró el papel que juega la transformada de fourier en el procesamiento de las señales para tener una representación más óptima de los datos, se obtienen los MFCCs (Ceoficientes Cepstrales en las Frecuencias de Mel), los cuales permiten extraer los componentes que son adecuados para idenficar contenido relevante. El cálculo de los MFFCs, básicamente consiste en separar la pista en pequeños tramos, aplicar la transformada de fourier discreta a cada uno, aplicar el banco de filtros de la Escala Mel, tomar el logaritmo de las energías de frencuencia de mel obtenidas anteriormente y finalmente aplicar la transformada de coseno discreta. Se muestran los MFCCs en escala de decíbeles. "
      ],
      "metadata": {
        "id": "9-qEKjXA_oNa"
      }
    },
    {
      "cell_type": "markdown",
      "source": [
        "La producción de sonidos puede entenderse como la composición de dos elementos: la fuente y el filtrado. De modo que la señal que escuchamos es el producto de la convolución de ambas señales (la de la fuente y el filtrado).  \n",
        "Es por esto que al calcular los MFCCs lo que se hace es separar (con la transformada de Fourier) estas dos señales y hacer desaparecer (con los filtros de la Escala Mel) la influencia de la fuente."
      ],
      "metadata": {
        "id": "y2jHfJ5kYVLo"
      }
    },
    {
      "cell_type": "code",
      "source": [
        "# número de muestras\n",
        "hop_length = 512\n",
        "# número de muestras\n",
        "n_fft = 2048 # num de muestras por ventana\n",
        "# Se calculan 13 MFCCs\n",
        "MFCCs = librosa.feature.mfcc(signal, sample_rate, n_fft=n_fft, hop_length=hop_length, n_mfcc=13)"
      ],
      "metadata": {
        "id": "9rMaY_yX_ssm"
      },
      "execution_count": null,
      "outputs": []
    },
    {
      "cell_type": "code",
      "source": [
        "plt.figure(figsize= FIG_SIZE)\n",
        "librosa.display.specshow(MFCCs, sr=sample_rate, hop_length= hop_length)\n",
        "plt.xlabel(\"Time\")\n",
        "plt.ylabel(\"MFCC coefficients\")\n",
        "plt.colorbar()\n",
        "plt.title(\"MFCCs\")"
      ],
      "metadata": {
        "id": "aI9B3Bbp_vZU"
      },
      "execution_count": null,
      "outputs": []
    },
    {
      "cell_type": "markdown",
      "source": [
        "La función que se definió anteriormente (*save_mfcc*) se encarga básicamente de obtener los MFCCs de cada una de las pistas de audio. "
      ],
      "metadata": {
        "id": "tbGVrhhcf7FW"
      }
    },
    {
      "cell_type": "code",
      "source": [
        "save_mfcc(path+\"genres_original\", JSON_PATH, num_segments=1)"
      ],
      "metadata": {
        "id": "n5nj2ZX7fS1s"
      },
      "execution_count": null,
      "outputs": []
    },
    {
      "cell_type": "markdown",
      "source": [
        "## Convolutional Neural Network"
      ],
      "metadata": {
        "id": "VhT9WJ3HmRp6"
      }
    },
    {
      "cell_type": "markdown",
      "source": [
        "Aqui se presenta una red convolutional para clasificar los mfcc de cada audio segun su genero. Se hace uso de una convolucional porque un mfcc es un espectrograma y esto es muy parecido a trabajar con imagenes, además el pasar el audio en crudo a su espectrogramam reduce mucho el tamaño de los datos."
      ],
      "metadata": {
        "id": "8zysbE1e8Yog"
      }
    },
    {
      "cell_type": "markdown",
      "source": [
        "### Dataset"
      ],
      "metadata": {
        "id": "O1TqgmodCoFK"
      }
    },
    {
      "cell_type": "code",
      "source": [
        "data_path = path + \"data_10.json\""
      ],
      "metadata": {
        "id": "un39rTJeY23h"
      },
      "execution_count": null,
      "outputs": []
    },
    {
      "cell_type": "code",
      "source": [
        "def load_data(data_path):\n",
        "\n",
        "    with open(data_path, \"r\") as f:\n",
        "        data = json.load(f)\n",
        "\n",
        "    # convert lists to numpy arrays\n",
        "    X = np.array(data[\"mfcc\"])\n",
        "    y = np.array(data[\"labels\"])\n",
        "\n",
        "    print(\"Data succesfully loaded!\")\n",
        "\n",
        "    return  X, y"
      ],
      "metadata": {
        "id": "ko39CurBCrny"
      },
      "execution_count": null,
      "outputs": []
    },
    {
      "cell_type": "code",
      "source": [
        "X, Y = load_data(data_path)"
      ],
      "metadata": {
        "colab": {
          "base_uri": "https://localhost:8080/"
        },
        "id": "Vh-ew1GjbjFg",
        "outputId": "00f7ef0a-3815-4a91-d538-91971c79bd33"
      },
      "execution_count": null,
      "outputs": [
        {
          "output_type": "stream",
          "name": "stdout",
          "text": [
            "Data succesfully loaded!\n"
          ]
        }
      ]
    },
    {
      "cell_type": "code",
      "source": [
        "X.shape"
      ],
      "metadata": {
        "colab": {
          "base_uri": "https://localhost:8080/"
        },
        "id": "7YsK1EqIb3n6",
        "outputId": "8b69d831-1d8b-4f18-c2f5-33ea881d4d6a"
      },
      "execution_count": null,
      "outputs": [
        {
          "output_type": "execute_result",
          "data": {
            "text/plain": [
              "(9976, 130, 13)"
            ]
          },
          "metadata": {},
          "execution_count": 18
        }
      ]
    },
    {
      "cell_type": "code",
      "source": [
        "#  Etiquetas para cada genero musical.\n",
        "\n",
        "labels = np.unique(Y)\n",
        "labels = np.sort(labels)\n",
        "labels"
      ],
      "metadata": {
        "colab": {
          "base_uri": "https://localhost:8080/"
        },
        "id": "X2XX2fxtniX-",
        "outputId": "b51af511-de31-4d6a-aef3-a138809346d2"
      },
      "execution_count": null,
      "outputs": [
        {
          "output_type": "execute_result",
          "data": {
            "text/plain": [
              "array([ 0,  1,  2,  3,  4,  5,  6,  7,  9, 10])"
            ]
          },
          "metadata": {},
          "execution_count": 19
        }
      ]
    },
    {
      "cell_type": "code",
      "source": [
        "X_train, X_test, Y_train, Y_test = train_test_split(X, Y, test_size=0.3)"
      ],
      "metadata": {
        "id": "Ld6FdnQjb_Xc"
      },
      "execution_count": null,
      "outputs": []
    },
    {
      "cell_type": "code",
      "source": [
        "X_train, X_validation, Y_train, Y_validation = train_test_split(X_train, Y_train, test_size=0.2)"
      ],
      "metadata": {
        "id": "qWuZCXDvcGaH"
      },
      "execution_count": null,
      "outputs": []
    },
    {
      "cell_type": "markdown",
      "source": [
        "### Pipeline"
      ],
      "metadata": {
        "id": "h4NtjjrCCE8O"
      }
    },
    {
      "cell_type": "markdown",
      "source": [
        "Necesitamos añadir la dimensión del canal para que sea una imagen."
      ],
      "metadata": {
        "id": "tA890xKh5x1X"
      }
    },
    {
      "cell_type": "code",
      "source": [
        "X_train = X_train[..., np.newaxis]\n",
        "X_validation = X_validation[..., np.newaxis]\n",
        "X_test = X_test[..., np.newaxis]"
      ],
      "metadata": {
        "id": "WLRn99yxctRQ"
      },
      "execution_count": null,
      "outputs": []
    },
    {
      "cell_type": "code",
      "source": [
        "X_train.shape"
      ],
      "metadata": {
        "id": "ipcdEyevcv9k",
        "colab": {
          "base_uri": "https://localhost:8080/"
        },
        "outputId": "2527086b-83a0-4291-c4c3-21fd2264050c"
      },
      "execution_count": null,
      "outputs": [
        {
          "output_type": "execute_result",
          "data": {
            "text/plain": [
              "(5586, 130, 13, 1)"
            ]
          },
          "metadata": {},
          "execution_count": 23
        }
      ]
    },
    {
      "cell_type": "markdown",
      "source": [
        "### Training"
      ],
      "metadata": {
        "id": "AhjWm7wsCJZW"
      }
    },
    {
      "cell_type": "code",
      "source": [
        "import tensorflow as tf\n",
        "from tensorflow import keras"
      ],
      "metadata": {
        "id": "6513jUh0d2-c"
      },
      "execution_count": null,
      "outputs": []
    },
    {
      "cell_type": "code",
      "source": [
        "input_shape = (X_train.shape[1], X_train.shape[2], 1)"
      ],
      "metadata": {
        "id": "kbNEXYNseDoq"
      },
      "execution_count": null,
      "outputs": []
    },
    {
      "cell_type": "code",
      "source": [
        "# build the CNN\n",
        "model_cnn = keras.Sequential()\n",
        "\n",
        "# 1st conv layer\n",
        "model_cnn.add(keras.layers.Conv2D(32, (3, 3), activation='relu', input_shape=input_shape))\n",
        "model_cnn.add(keras.layers.MaxPooling2D((3, 3), strides=(2, 2), padding='same'))\n",
        "model_cnn.add(keras.layers.BatchNormalization())\n",
        "\n",
        "# 2nd conv layer\n",
        "model_cnn.add(keras.layers.Conv2D(64, (3, 3), activation='relu'))\n",
        "model_cnn.add(keras.layers.MaxPooling2D((3, 3), strides=(2, 2), padding='same'))\n",
        "model_cnn.add(keras.layers.BatchNormalization())\n",
        "\n",
        "# 3rd conv layer\n",
        "model_cnn.add(keras.layers.Conv2D(128, (2, 2), activation='relu'))\n",
        "model_cnn.add(keras.layers.MaxPooling2D((2, 2), strides=(2, 2), padding='same'))\n",
        "model_cnn.add(keras.layers.BatchNormalization())\n",
        "\n",
        "# flatten output y entra a una DNN (Deep Neural Network)\n",
        "model_cnn.add(keras.layers.Flatten())\n",
        "model_cnn.add(keras.layers.Dense(1920, activation='relu',kernel_regularizer='l2'))\n",
        "model_cnn.add(keras.layers.Dropout(0.4))\n",
        "model_cnn.add(keras.layers.Dense(960, activation='relu',kernel_regularizer='l2'))\n",
        "model_cnn.add(keras.layers.Dropout(0.3))\n",
        "model_cnn.add(keras.layers.Dense(480, activation='relu',kernel_regularizer='l2'))\n",
        "model_cnn.add(keras.layers.Dropout(0.3))\n",
        "model_cnn.add(keras.layers.Dense(240, activation='relu',kernel_regularizer='l2'))\n",
        "# output layer\n",
        "model_cnn.add(keras.layers.Dense(11, activation='softmax'))"
      ],
      "metadata": {
        "id": "yalXY99Sdbgj"
      },
      "execution_count": null,
      "outputs": []
    },
    {
      "cell_type": "code",
      "source": [
        "model_cnn.compile(optimizer='adam',\n",
        "              loss='sparse_categorical_crossentropy',\n",
        "              metrics=['accuracy'])"
      ],
      "metadata": {
        "id": "c70EuGcnClxD"
      },
      "execution_count": null,
      "outputs": []
    },
    {
      "cell_type": "code",
      "source": [
        "model_cnn.summary()"
      ],
      "metadata": {
        "id": "szqnS3U8fMI8",
        "colab": {
          "base_uri": "https://localhost:8080/"
        },
        "outputId": "f3166267-8af4-4557-fe55-d3a5046a795a"
      },
      "execution_count": null,
      "outputs": [
        {
          "output_type": "stream",
          "name": "stdout",
          "text": [
            "Model: \"sequential_1\"\n",
            "_________________________________________________________________\n",
            " Layer (type)                Output Shape              Param #   \n",
            "=================================================================\n",
            " conv2d_3 (Conv2D)           (None, 128, 11, 32)       320       \n",
            "                                                                 \n",
            " max_pooling2d_3 (MaxPooling  (None, 64, 6, 32)        0         \n",
            " 2D)                                                             \n",
            "                                                                 \n",
            " batch_normalization_3 (Batc  (None, 64, 6, 32)        128       \n",
            " hNormalization)                                                 \n",
            "                                                                 \n",
            " conv2d_4 (Conv2D)           (None, 62, 4, 32)         9248      \n",
            "                                                                 \n",
            " max_pooling2d_4 (MaxPooling  (None, 31, 2, 32)        0         \n",
            " 2D)                                                             \n",
            "                                                                 \n",
            " batch_normalization_4 (Batc  (None, 31, 2, 32)        128       \n",
            " hNormalization)                                                 \n",
            "                                                                 \n",
            " conv2d_5 (Conv2D)           (None, 30, 1, 32)         4128      \n",
            "                                                                 \n",
            " max_pooling2d_5 (MaxPooling  (None, 15, 1, 32)        0         \n",
            " 2D)                                                             \n",
            "                                                                 \n",
            " batch_normalization_5 (Batc  (None, 15, 1, 32)        128       \n",
            " hNormalization)                                                 \n",
            "                                                                 \n",
            " flatten_1 (Flatten)         (None, 480)               0         \n",
            "                                                                 \n",
            " dense_2 (Dense)             (None, 64)                30784     \n",
            "                                                                 \n",
            " dropout_1 (Dropout)         (None, 64)                0         \n",
            "                                                                 \n",
            " dense_3 (Dense)             (None, 11)                715       \n",
            "                                                                 \n",
            "=================================================================\n",
            "Total params: 45,579\n",
            "Trainable params: 45,387\n",
            "Non-trainable params: 192\n",
            "_________________________________________________________________\n"
          ]
        }
      ]
    },
    {
      "cell_type": "code",
      "source": [
        "history = model_cnn.fit(X_train, Y_train, validation_data=(X_validation, Y_validation), batch_size=32, epochs=50)"
      ],
      "metadata": {
        "id": "N-WA43rUfPA9",
        "colab": {
          "base_uri": "https://localhost:8080/"
        },
        "outputId": "e3030101-ece0-4f6b-c780-7c52e6f16737"
      },
      "execution_count": null,
      "outputs": [
        {
          "output_type": "stream",
          "name": "stdout",
          "text": [
            "Epoch 1/50\n",
            "175/175 [==============================] - 20s 112ms/step - loss: 1.7672 - accuracy: 0.4076 - val_loss: 1.8428 - val_accuracy: 0.3565\n",
            "Epoch 2/50\n",
            "175/175 [==============================] - 13s 77ms/step - loss: 1.2824 - accuracy: 0.5494 - val_loss: 1.1609 - val_accuracy: 0.5684\n",
            "Epoch 3/50\n",
            "175/175 [==============================] - 13s 73ms/step - loss: 1.0683 - accuracy: 0.6255 - val_loss: 1.1019 - val_accuracy: 0.5999\n",
            "Epoch 4/50\n",
            "175/175 [==============================] - 13s 73ms/step - loss: 0.9568 - accuracy: 0.6651 - val_loss: 1.0276 - val_accuracy: 0.6228\n",
            "Epoch 5/50\n",
            "175/175 [==============================] - 13s 74ms/step - loss: 0.8650 - accuracy: 0.7025 - val_loss: 0.9759 - val_accuracy: 0.6349\n",
            "Epoch 6/50\n",
            "175/175 [==============================] - 13s 73ms/step - loss: 0.7930 - accuracy: 0.7265 - val_loss: 0.9499 - val_accuracy: 0.6571\n",
            "Epoch 7/50\n",
            "175/175 [==============================] - 13s 73ms/step - loss: 0.7301 - accuracy: 0.7488 - val_loss: 1.0334 - val_accuracy: 0.6385\n",
            "Epoch 8/50\n",
            "175/175 [==============================] - 13s 74ms/step - loss: 0.6762 - accuracy: 0.7694 - val_loss: 0.9499 - val_accuracy: 0.6764\n",
            "Epoch 9/50\n",
            "175/175 [==============================] - 13s 77ms/step - loss: 0.6405 - accuracy: 0.7775 - val_loss: 0.8151 - val_accuracy: 0.7201\n",
            "Epoch 10/50\n",
            "175/175 [==============================] - 18s 104ms/step - loss: 0.5726 - accuracy: 0.8022 - val_loss: 0.8724 - val_accuracy: 0.7137\n",
            "Epoch 11/50\n",
            "175/175 [==============================] - 16s 90ms/step - loss: 0.5463 - accuracy: 0.8153 - val_loss: 1.2363 - val_accuracy: 0.6099\n",
            "Epoch 12/50\n",
            "175/175 [==============================] - 16s 93ms/step - loss: 0.5357 - accuracy: 0.8154 - val_loss: 1.0095 - val_accuracy: 0.6736\n",
            "Epoch 13/50\n",
            "175/175 [==============================] - 13s 75ms/step - loss: 0.4968 - accuracy: 0.8231 - val_loss: 0.8785 - val_accuracy: 0.7087\n",
            "Epoch 14/50\n",
            "175/175 [==============================] - 14s 80ms/step - loss: 0.4563 - accuracy: 0.8398 - val_loss: 0.8021 - val_accuracy: 0.7459\n",
            "Epoch 15/50\n",
            "175/175 [==============================] - 13s 72ms/step - loss: 0.4477 - accuracy: 0.8430 - val_loss: 0.9119 - val_accuracy: 0.7122\n",
            "Epoch 16/50\n",
            "175/175 [==============================] - 12s 71ms/step - loss: 0.4176 - accuracy: 0.8554 - val_loss: 0.8338 - val_accuracy: 0.7430\n",
            "Epoch 17/50\n",
            "175/175 [==============================] - 12s 70ms/step - loss: 0.3974 - accuracy: 0.8656 - val_loss: 0.9680 - val_accuracy: 0.7151\n",
            "Epoch 18/50\n",
            "175/175 [==============================] - 13s 75ms/step - loss: 0.3956 - accuracy: 0.8589 - val_loss: 0.8397 - val_accuracy: 0.7273\n",
            "Epoch 19/50\n",
            "175/175 [==============================] - 16s 90ms/step - loss: 0.3676 - accuracy: 0.8733 - val_loss: 0.9277 - val_accuracy: 0.7337\n",
            "Epoch 20/50\n",
            "175/175 [==============================] - 12s 71ms/step - loss: 0.3297 - accuracy: 0.8822 - val_loss: 0.9943 - val_accuracy: 0.7273\n",
            "Epoch 21/50\n",
            "175/175 [==============================] - 12s 71ms/step - loss: 0.3281 - accuracy: 0.8854 - val_loss: 0.9576 - val_accuracy: 0.7158\n",
            "Epoch 22/50\n",
            "175/175 [==============================] - 12s 71ms/step - loss: 0.3369 - accuracy: 0.8833 - val_loss: 0.9205 - val_accuracy: 0.7323\n",
            "Epoch 23/50\n",
            "175/175 [==============================] - 13s 74ms/step - loss: 0.2946 - accuracy: 0.8955 - val_loss: 0.9231 - val_accuracy: 0.7387\n",
            "Epoch 24/50\n",
            "175/175 [==============================] - 17s 98ms/step - loss: 0.2896 - accuracy: 0.9015 - val_loss: 0.8475 - val_accuracy: 0.7373\n",
            "Epoch 25/50\n",
            "175/175 [==============================] - 16s 91ms/step - loss: 0.2697 - accuracy: 0.9082 - val_loss: 0.9449 - val_accuracy: 0.7344\n",
            "Epoch 26/50\n",
            "175/175 [==============================] - 15s 83ms/step - loss: 0.2864 - accuracy: 0.9017 - val_loss: 0.9847 - val_accuracy: 0.7301\n",
            "Epoch 27/50\n",
            "175/175 [==============================] - 14s 82ms/step - loss: 0.2547 - accuracy: 0.9103 - val_loss: 1.0225 - val_accuracy: 0.7137\n",
            "Epoch 28/50\n",
            "175/175 [==============================] - 20s 112ms/step - loss: 0.2424 - accuracy: 0.9151 - val_loss: 0.9756 - val_accuracy: 0.7359\n",
            "Epoch 29/50\n",
            "175/175 [==============================] - 16s 93ms/step - loss: 0.2238 - accuracy: 0.9227 - val_loss: 1.1007 - val_accuracy: 0.7115\n",
            "Epoch 30/50\n",
            "175/175 [==============================] - 14s 80ms/step - loss: 0.2294 - accuracy: 0.9144 - val_loss: 1.1046 - val_accuracy: 0.7215\n",
            "Epoch 31/50\n",
            "175/175 [==============================] - 19s 108ms/step - loss: 0.2012 - accuracy: 0.9304 - val_loss: 1.1412 - val_accuracy: 0.7115\n",
            "Epoch 32/50\n",
            "175/175 [==============================] - 19s 111ms/step - loss: 0.2057 - accuracy: 0.9284 - val_loss: 1.0950 - val_accuracy: 0.7394\n",
            "Epoch 33/50\n",
            "175/175 [==============================] - 15s 88ms/step - loss: 0.2327 - accuracy: 0.9207 - val_loss: 0.9621 - val_accuracy: 0.7566\n",
            "Epoch 34/50\n",
            "175/175 [==============================] - 14s 82ms/step - loss: 0.1995 - accuracy: 0.9320 - val_loss: 1.0862 - val_accuracy: 0.7251\n",
            "Epoch 35/50\n",
            "175/175 [==============================] - 14s 79ms/step - loss: 0.2204 - accuracy: 0.9241 - val_loss: 1.1067 - val_accuracy: 0.7316\n",
            "Epoch 36/50\n",
            "175/175 [==============================] - 22s 128ms/step - loss: 0.1952 - accuracy: 0.9327 - val_loss: 0.9865 - val_accuracy: 0.7380\n",
            "Epoch 37/50\n",
            "175/175 [==============================] - 15s 86ms/step - loss: 0.1809 - accuracy: 0.9352 - val_loss: 1.0537 - val_accuracy: 0.7359\n",
            "Epoch 38/50\n",
            "175/175 [==============================] - 14s 81ms/step - loss: 0.1792 - accuracy: 0.9402 - val_loss: 1.1940 - val_accuracy: 0.7258\n",
            "Epoch 39/50\n",
            "175/175 [==============================] - 14s 81ms/step - loss: 0.1790 - accuracy: 0.9381 - val_loss: 1.1338 - val_accuracy: 0.7316\n",
            "Epoch 40/50\n",
            "175/175 [==============================] - 13s 76ms/step - loss: 0.1834 - accuracy: 0.9348 - val_loss: 1.1710 - val_accuracy: 0.7466\n",
            "Epoch 41/50\n",
            "175/175 [==============================] - 13s 75ms/step - loss: 0.1646 - accuracy: 0.9413 - val_loss: 1.2674 - val_accuracy: 0.7180\n",
            "Epoch 42/50\n",
            "175/175 [==============================] - 13s 75ms/step - loss: 0.1704 - accuracy: 0.9416 - val_loss: 1.1835 - val_accuracy: 0.7294\n",
            "Epoch 43/50\n",
            "175/175 [==============================] - 14s 78ms/step - loss: 0.1641 - accuracy: 0.9422 - val_loss: 1.1427 - val_accuracy: 0.7273\n",
            "Epoch 44/50\n",
            "175/175 [==============================] - 13s 75ms/step - loss: 0.1539 - accuracy: 0.9461 - val_loss: 1.1113 - val_accuracy: 0.7495\n",
            "Epoch 45/50\n",
            "175/175 [==============================] - 16s 92ms/step - loss: 0.1547 - accuracy: 0.9452 - val_loss: 1.1802 - val_accuracy: 0.7151\n",
            "Epoch 46/50\n",
            "175/175 [==============================] - 13s 74ms/step - loss: 0.1445 - accuracy: 0.9488 - val_loss: 1.2256 - val_accuracy: 0.7330\n",
            "Epoch 47/50\n",
            "175/175 [==============================] - 14s 78ms/step - loss: 0.1493 - accuracy: 0.9490 - val_loss: 1.1721 - val_accuracy: 0.7409\n",
            "Epoch 48/50\n",
            "175/175 [==============================] - 13s 75ms/step - loss: 0.1741 - accuracy: 0.9415 - val_loss: 1.2839 - val_accuracy: 0.7158\n",
            "Epoch 49/50\n",
            "175/175 [==============================] - 13s 75ms/step - loss: 0.1358 - accuracy: 0.9535 - val_loss: 1.1246 - val_accuracy: 0.7359\n",
            "Epoch 50/50\n",
            "175/175 [==============================] - 13s 76ms/step - loss: 0.1423 - accuracy: 0.9499 - val_loss: 1.3537 - val_accuracy: 0.7230\n"
          ]
        }
      ]
    },
    {
      "cell_type": "code",
      "source": [
        "# plot accuracy and error as a function of the epochs\n",
        "plot_history(history)"
      ],
      "metadata": {
        "id": "KWpbpCWngzsE",
        "colab": {
          "base_uri": "https://localhost:8080/",
          "height": 295
        },
        "outputId": "63d181f0-516a-4c2c-8eec-aa13157f7e4a"
      },
      "execution_count": null,
      "outputs": [
        {
          "output_type": "display_data",
          "data": {
            "text/plain": [
              "<Figure size 432x288 with 2 Axes>"
            ],
            "image/png": "[encoded data removed]"
          },
          "metadata": {
            "needs_background": "light"
          }
        }
      ]
    },
    {
      "cell_type": "markdown",
      "source": [
        "### Results"
      ],
      "metadata": {
        "id": "OxUl4iBum1e5"
      }
    },
    {
      "cell_type": "code",
      "source": [
        "prediction = predicted_labels(model_cnn.predict(X_test))"
      ],
      "metadata": {
        "id": "we7aN6PMkswV",
        "colab": {
          "base_uri": "https://localhost:8080/"
        },
        "outputId": "b7db8b42-229d-4932-b8ff-7eb9d07c1356"
      },
      "execution_count": null,
      "outputs": [
        {
          "output_type": "stream",
          "name": "stdout",
          "text": [
            "94/94 [==============================] - 2s 20ms/step\n"
          ]
        }
      ]
    },
    {
      "cell_type": "code",
      "source": [
        "print(classification_report(Y_test,prediction))"
      ],
      "metadata": {
        "id": "3M50Vf8Cm7GA",
        "colab": {
          "base_uri": "https://localhost:8080/"
        },
        "outputId": "4b12ff76-3b86-469d-dab3-acd1e38f496c"
      },
      "execution_count": null,
      "outputs": [
        {
          "output_type": "stream",
          "name": "stdout",
          "text": [
            "              precision    recall  f1-score   support\n",
            "\n",
            "           0       0.73      0.51      0.60       298\n",
            "           1       0.79      0.52      0.62       292\n",
            "           2       0.56      0.86      0.68       302\n",
            "           3       0.79      0.76      0.77       312\n",
            "           4       0.51      0.54      0.52       302\n",
            "           5       0.86      0.58      0.70       317\n",
            "           6       0.73      0.83      0.78       286\n",
            "           7       0.84      0.80      0.82       286\n",
            "           9       0.76      0.91      0.83       293\n",
            "          10       0.86      0.95      0.90       305\n",
            "\n",
            "    accuracy                           0.73      2993\n",
            "   macro avg       0.74      0.73      0.72      2993\n",
            "weighted avg       0.74      0.73      0.72      2993\n",
            "\n"
          ]
        }
      ]
    },
    {
      "cell_type": "code",
      "source": [
        "display_matriz_confusion(multilabel_confusion_matrix(Y_test, prediction, labels=labels))"
      ],
      "metadata": {
        "id": "tQIUaQ5lnB90",
        "colab": {
          "base_uri": "https://localhost:8080/",
          "height": 683
        },
        "outputId": "9d34a5b2-3df2-4242-bdb0-3bfdb004032e"
      },
      "execution_count": null,
      "outputs": [
        {
          "output_type": "display_data",
          "data": {
            "text/plain": [
              "<Figure size 1440x864 with 20 Axes>"
            ],
            "image/png": "[encoded data removed]"
          },
          "metadata": {
            "needs_background": "light"
          }
        }
      ]
    },
    {
      "cell_type": "code",
      "source": [
        "show_confusion_matrix(Y_test,labels,prediction)"
      ],
      "metadata": {
        "id": "rJUywMzPnJ1A",
        "colab": {
          "base_uri": "https://localhost:8080/",
          "height": 580
        },
        "outputId": "16893814-1160-4909-e9ca-93c701fcd734"
      },
      "execution_count": null,
      "outputs": [
        {
          "output_type": "display_data",
          "data": {
            "text/plain": [
              "<Figure size 720x720 with 2 Axes>"
            ],
            "image/png": "[encoded data removed]"
          },
          "metadata": {
            "needs_background": "light"
          }
        }
      ]
    },
    {
      "cell_type": "code",
      "source": [
        "# evaluate model on Test Set\n",
        "test_loss, test_acc = model_cnn.evaluate(X_test, Y_test, verbose=2)\n",
        "print('\\nTest accuracy:', test_acc)"
      ],
      "metadata": {
        "id": "FgoS0D0fj2Ln",
        "colab": {
          "base_uri": "https://localhost:8080/"
        },
        "outputId": "cb731a1c-7801-44e9-d90c-df6c146fe297"
      },
      "execution_count": null,
      "outputs": [
        {
          "output_type": "stream",
          "name": "stdout",
          "text": [
            "94/94 - 2s - loss: 1.3790 - accuracy: 0.7264 - 2s/epoch - 18ms/step\n",
            "\n",
            "Test accuracy: 0.7263615131378174\n"
          ]
        }
      ]
    },
    {
      "cell_type": "markdown",
      "source": [
        "## Recurrent Neural Network"
      ],
      "metadata": {
        "id": "c3PIg5MBmgYL"
      }
    },
    {
      "cell_type": "markdown",
      "source": [
        "La idea detras de esto era primero crear un autoencoder que aprendiera a representar segundos. posteriormente usar el encoder (representación en segundos) para aplicarle una convolución de un kernel de 3 de una dimensión para que se aprendiera lo que hay en un segundo anterior, el segundo actual y el segundo siguiente.\n",
        "\n",
        "\n",
        "La primera complicación que vi fue que quería usar el audio en bruto sin ocupar espectrogramas o tff, pero estos eran muy grandes y en colab me gastaba toda la ram al quererlos guardar en un .json, asi que use espectrogramas y reuse los mfcc de cada audio. Lo bueno de los espectrogramas y el mfcc es que ya se tiene de forma mas clara el audio en función al tiempo, ya que esto se hace con los hop_length.\n",
        "\n",
        "\n",
        "El mfcc shape es de $\\left(\\frac{d*sr}{hl}\\times num\\_mfcc\\right)$, donde sr es en sample rate del audio, d la duración en seg del audio y hl es hop length. Justo por esto podemos partir mfcc en segmentos que corresponden a segundos. Y con esto se me hizo facil pensar en alimentar con esto una RNN.\n",
        "\n",
        "\n",
        "Pero antes de eso hacer un encoder RNN que mande cada segmento de segundo a un valor que represente un segundo y esto ahora si mandarlo a algo que represente los datos como una relación entre segundo actual, anterior y siguiente."
      ],
      "metadata": {
        "id": "LEOD5DbNOeZV"
      }
    },
    {
      "cell_type": "code",
      "source": [
        "import tensorflow as tf\n",
        "from tensorflow import keras\n",
        "from keras import layers"
      ],
      "metadata": {
        "id": "nuos6PDmNREj"
      },
      "execution_count": null,
      "outputs": []
    },
    {
      "cell_type": "markdown",
      "source": [
        "### Dataset"
      ],
      "metadata": {
        "id": "3kWOuJGlmn6y"
      }
    },
    {
      "cell_type": "code",
      "source": [
        "data_path = path + \"data_complete(1).json\""
      ],
      "metadata": {
        "id": "P0MIPtyFi_MZ"
      },
      "execution_count": null,
      "outputs": []
    },
    {
      "cell_type": "code",
      "source": [
        "def load_data(data_path):\n",
        "\n",
        "    with open(data_path, \"r\") as f:\n",
        "        data = json.load(f)\n",
        "\n",
        "    # convert lists to numpy arrays\n",
        "    X = np.array(data[\"mfcc\"])\n",
        "    y = np.array(data[\"labels\"])\n",
        "\n",
        "    print(\"Data succesfully loaded!\")\n",
        "\n",
        "    return  X, y"
      ],
      "metadata": {
        "id": "S6DNmzkJi_uf"
      },
      "execution_count": null,
      "outputs": []
    },
    {
      "cell_type": "code",
      "source": [
        "X, Y = load_data(data_path)"
      ],
      "metadata": {
        "colab": {
          "base_uri": "https://localhost:8080/"
        },
        "id": "aUGBVrgIjB1R",
        "outputId": "2780c8c8-a8b5-4dfa-96a8-a5a1f15a49a0"
      },
      "execution_count": null,
      "outputs": [
        {
          "output_type": "stream",
          "name": "stdout",
          "text": [
            "Data succesfully loaded!\n"
          ]
        }
      ]
    },
    {
      "cell_type": "markdown",
      "source": [
        "### Pipeline"
      ],
      "metadata": {
        "id": "v8HrshvRmq5E"
      }
    },
    {
      "cell_type": "markdown",
      "source": [
        "Aqui hago reshape de los datos a segementos que representan segundos."
      ],
      "metadata": {
        "id": "k61dzLxyT2UB"
      }
    },
    {
      "cell_type": "code",
      "source": [
        "song_duration = 30\n",
        "timesteps = song_duration\n",
        "n_features = 43"
      ],
      "metadata": {
        "id": "qKqP6lnlHptm"
      },
      "execution_count": null,
      "outputs": []
    },
    {
      "cell_type": "code",
      "source": [
        "X.shape"
      ],
      "metadata": {
        "colab": {
          "base_uri": "https://localhost:8080/"
        },
        "id": "cvoCAerOkAsn",
        "outputId": "1852674b-10b4-4aa8-ce89-75c3ccb9543b"
      },
      "execution_count": null,
      "outputs": [
        {
          "output_type": "execute_result",
          "data": {
            "text/plain": [
              "(998, 1292, 1)"
            ]
          },
          "metadata": {},
          "execution_count": 17
        }
      ]
    },
    {
      "cell_type": "markdown",
      "source": [
        "Elimino algunos segementos del audio para que se pueda partir en pedazos de segundos."
      ],
      "metadata": {
        "id": "wK_vGy6dT66D"
      }
    },
    {
      "cell_type": "code",
      "source": [
        "X = np.delete(X,-1,1)\n",
        "X.shape"
      ],
      "metadata": {
        "colab": {
          "base_uri": "https://localhost:8080/"
        },
        "id": "CHdCg3h8niRq",
        "outputId": "cde0b33a-1c50-43e3-ac7f-4530d2a23f6f"
      },
      "execution_count": null,
      "outputs": [
        {
          "output_type": "execute_result",
          "data": {
            "text/plain": [
              "(998, 1290, 1)"
            ]
          },
          "metadata": {},
          "execution_count": 19
        }
      ]
    },
    {
      "cell_type": "code",
      "source": [
        "X = np.reshape(X,(-1,song_duration,n_features))"
      ],
      "metadata": {
        "id": "95rqXMlyox2y"
      },
      "execution_count": null,
      "outputs": []
    },
    {
      "cell_type": "code",
      "source": [
        "X.shape"
      ],
      "metadata": {
        "colab": {
          "base_uri": "https://localhost:8080/"
        },
        "id": "kRbVaYxFnw7U",
        "outputId": "00312eee-726a-469d-f94b-e69f0b2e35e6"
      },
      "execution_count": null,
      "outputs": [
        {
          "output_type": "execute_result",
          "data": {
            "text/plain": [
              "(998, 30, 43)"
            ]
          },
          "metadata": {},
          "execution_count": 21
        }
      ]
    },
    {
      "cell_type": "code",
      "source": [
        "X_train, X_test, Y_train, Y_test = train_test_split(X, Y, test_size=0.3)"
      ],
      "metadata": {
        "id": "2oyFsrIzGkc5"
      },
      "execution_count": null,
      "outputs": []
    },
    {
      "cell_type": "code",
      "source": [
        "X_train, X_validation, Y_train, Y_validation = train_test_split(X_train, Y_train, test_size=0.2)"
      ],
      "metadata": {
        "id": "0tFAY677GxOy"
      },
      "execution_count": null,
      "outputs": []
    },
    {
      "cell_type": "code",
      "source": [
        "X.shape"
      ],
      "metadata": {
        "colab": {
          "base_uri": "https://localhost:8080/"
        },
        "id": "ew3j3GG3I7FX",
        "outputId": "606ec1bb-d8ca-49c5-979c-a833305e4782"
      },
      "execution_count": null,
      "outputs": [
        {
          "output_type": "execute_result",
          "data": {
            "text/plain": [
              "(998, 30, 43)"
            ]
          },
          "metadata": {},
          "execution_count": 24
        }
      ]
    },
    {
      "cell_type": "markdown",
      "source": [
        "### Training"
      ],
      "metadata": {
        "id": "xxcA-Rh2muV7"
      }
    },
    {
      "cell_type": "markdown",
      "source": [
        "#### Encoder\n"
      ],
      "metadata": {
        "id": "RV7z7VHrG9TK"
      }
    },
    {
      "cell_type": "markdown",
      "source": [
        "Esta es la arquitectura de un autoencoder que codifica cada segmento en un segundo."
      ],
      "metadata": {
        "id": "ptxismp9TmPT"
      }
    },
    {
      "cell_type": "code",
      "source": [
        "encoder = keras.Sequential()\n",
        "encoder.add(layers.LSTM(128, activation='relu', return_sequences=True))\n",
        "encoder.add(layers.LSTM(64, activation='relu', return_sequences=True))\n",
        "encoder.add(layers.LSTM(32, activation='relu', return_sequences=True))\n",
        "encoder.add(layers.LSTM(16, activation='relu', return_sequences=True))\n",
        "encoder.add(layers.LSTM(8, activation='relu', return_sequences=True))\n",
        "encoder.add(layers.LSTM(timesteps, activation='relu', return_sequences=False))\n",
        "\n",
        "decoder = keras.Sequential()\n",
        "decoder.add(layers.RepeatVector(timesteps))\n",
        "decoder.add(layers.LSTM(timesteps, activation='relu', return_sequences=True))\n",
        "decoder.add(layers.LSTM(8, activation='relu', return_sequences=True))\n",
        "decoder.add(layers.LSTM(16, activation='relu', return_sequences=True))\n",
        "decoder.add(layers.LSTM(32, activation='relu', return_sequences=True))\n",
        "decoder.add(layers.LSTM(64, activation='relu', return_sequences=True))\n",
        "decoder.add(layers.LSTM(128, activation='relu', return_sequences=True))\n",
        "decoder.add(layers.TimeDistributed(layers.Dense(n_features)))\n",
        "\n",
        "model = keras.Sequential([encoder,decoder])\n",
        "model.build(input_shape=(None,timesteps,n_features))\n",
        "model.compile(optimizer='adam', loss='mse')\n",
        "model.summary()"
      ],
      "metadata": {
        "id": "20FynQ2yLrjG",
        "colab": {
          "base_uri": "https://localhost:8080/"
        },
        "outputId": "8a18da1d-0722-4fc8-da56-3054ef2b98fc"
      },
      "execution_count": null,
      "outputs": [
        {
          "output_type": "stream",
          "name": "stdout",
          "text": [
            "Model: \"sequential_8\"\n",
            "_________________________________________________________________\n",
            " Layer (type)                Output Shape              Param #   \n",
            "=================================================================\n",
            " sequential_6 (Sequential)   (None, 30)                158504    \n",
            "                                                                 \n",
            " sequential_7 (Sequential)   (None, 30, 43)            145635    \n",
            "                                                                 \n",
            "=================================================================\n",
            "Total params: 304,139\n",
            "Trainable params: 304,139\n",
            "Non-trainable params: 0\n",
            "_________________________________________________________________\n"
          ]
        }
      ]
    },
    {
      "cell_type": "code",
      "source": [
        "epochs = 100\n",
        "batch_size = 50\n",
        "model.trainable = True\n",
        "history = model.fit(x=X_train,y=X_train,\n",
        "                    validation_data=(X_validation,X_validation),\n",
        "                    batch_size=batch_size,shuffle=True,epochs=epochs)"
      ],
      "metadata": {
        "id": "LZ-vgoJLH_lr"
      },
      "execution_count": null,
      "outputs": []
    },
    {
      "cell_type": "code",
      "source": [
        "model.save(\"autoencoder.h5\")"
      ],
      "metadata": {
        "id": "z6_dHsJh4wiA"
      },
      "execution_count": null,
      "outputs": []
    },
    {
      "cell_type": "markdown",
      "source": [
        "#### Clasifier"
      ],
      "metadata": {
        "id": "BosFBPjT8YER"
      }
    },
    {
      "cell_type": "markdown",
      "source": [
        "##### RNN"
      ],
      "metadata": {
        "id": "khy64vD180uD"
      }
    },
    {
      "cell_type": "markdown",
      "source": [
        "Arquitectura de la red clasificadora que hace uso del encoder del autoencoder y \n",
        "decoderRNN pasa de un vector de dimension (d) a un vector de dimnesion (d,1) y asi poder meterlo a una conv1D con kernel 3 para relacionar segundo actual, anterior y siguiente."
      ],
      "metadata": {
        "id": "kQqHsZyAUVKK"
      }
    },
    {
      "cell_type": "code",
      "source": [
        "encoder.trainable = True\n",
        "\n",
        "decoderRNN = keras.Sequential([\n",
        "    layers.RepeatVector(timesteps),\n",
        "    layers.LSTM(timesteps, activation='relu', return_sequences=True),\n",
        "    layers.LSTM(8, activation='relu', return_sequences=True),\n",
        "    layers.LSTM(16, activation='relu', return_sequences=True),\n",
        "    layers.LSTM(32, activation='relu', return_sequences=True),\n",
        "    layers.LSTM(64, activation='relu', return_sequences=True),\n",
        "    layers.LSTM(128, activation='relu', return_sequences=True),\n",
        "    layers.TimeDistributed(layers.Dense(1))\n",
        "])\n",
        "\n",
        "modelCNN = keras.Sequential([\n",
        "    keras.layers.Conv1D(16, 3, activation='relu', padding='same'),\n",
        "    keras.layers.MaxPooling1D(2, padding='same'),\n",
        "    keras.layers.Conv1D(32, 3, activation='relu', padding='same'),\n",
        "    keras.layers.MaxPooling1D(2, padding='same'),\n",
        "])\n",
        "\n",
        "model_classifier = keras.Sequential([\n",
        "    encoder,\n",
        "    modelCNN,\n",
        "    keras.layers.Flatten(),\n",
        "    keras.layers.Dense(96,activation='relu'),\n",
        "    keras.layers.Dropout(0.2),\n",
        "    keras.layers.Dense(64,activation='relu'),\n",
        "    keras.layers.Dropout(0.2),\n",
        "    keras.layers.Dense(32,activation='sigmoid'),\n",
        "    keras.layers.Dense(11,activation='softmax')\n",
        "])\n",
        "\n",
        "model_classifier.build(input_shape=(None,timesteps,n_features))\n",
        "\n",
        "model_classifier.compile(loss='sparse_categorical_crossentropy', optimizer='Adagrad',metrics=['accuracy'])"
      ],
      "metadata": {
        "id": "PhRinOvs8fRJ"
      },
      "execution_count": null,
      "outputs": []
    },
    {
      "cell_type": "code",
      "source": [
        "model_classifier.summary()"
      ],
      "metadata": {
        "colab": {
          "base_uri": "https://localhost:8080/"
        },
        "id": "wKy-XksSDg6E",
        "outputId": "54bb63ab-489a-4900-b287-9b85c2c50188"
      },
      "execution_count": null,
      "outputs": [
        {
          "output_type": "stream",
          "name": "stdout",
          "text": [
            "Model: \"sequential_26\"\n",
            "_________________________________________________________________\n",
            " Layer (type)                Output Shape              Param #   \n",
            "=================================================================\n",
            " sequential_6 (Sequential)   (None, 30)                158504    \n",
            "                                                                 \n",
            " sequential_24 (Sequential)  (None, 30, 1)             140217    \n",
            "                                                                 \n",
            " sequential_25 (Sequential)  (None, 8, 32)             1632      \n",
            "                                                                 \n",
            " flatten_6 (Flatten)         (None, 256)               0         \n",
            "                                                                 \n",
            " dense_33 (Dense)            (None, 96)                24672     \n",
            "                                                                 \n",
            " dropout_12 (Dropout)        (None, 96)                0         \n",
            "                                                                 \n",
            " dense_34 (Dense)            (None, 64)                6208      \n",
            "                                                                 \n",
            " dropout_13 (Dropout)        (None, 64)                0         \n",
            "                                                                 \n",
            " dense_35 (Dense)            (None, 32)                2080      \n",
            "                                                                 \n",
            " dense_36 (Dense)            (None, 11)                363       \n",
            "                                                                 \n",
            "=================================================================\n",
            "Total params: 333,676\n",
            "Trainable params: 333,676\n",
            "Non-trainable params: 0\n",
            "_________________________________________________________________\n"
          ]
        }
      ]
    },
    {
      "cell_type": "code",
      "source": [
        "early_stopping = keras.callbacks.EarlyStopping(monitor='val_accuracy', min_delta=0, patience=25, verbose=1, mode='auto')"
      ],
      "metadata": {
        "id": "JbG_x5xOAGTN"
      },
      "execution_count": null,
      "outputs": []
    },
    {
      "cell_type": "code",
      "source": [
        "epochs = 50\n",
        "batch_size = 50\n",
        "history = model_classifier.fit(x=X_train,y=Y_train,\n",
        "                     validation_data=(X_validation,Y_validation),\n",
        "                     batch_size=batch_size,shuffle=True,\n",
        "                     epochs=epochs,\n",
        "                     callbacks=[early_stopping])"
      ],
      "metadata": {
        "colab": {
          "base_uri": "https://localhost:8080/"
        },
        "id": "5ctqOlZTAMTJ",
        "outputId": "c251b0ec-0d6b-4fe9-dff5-f085d2fe4d43"
      },
      "execution_count": null,
      "outputs": [
        {
          "output_type": "stream",
          "name": "stdout",
          "text": [
            "Epoch 1/50\n",
            "12/12 [==============================] - 20s 458ms/step - loss: 2.9568 - accuracy: 0.0950 - val_loss: 2.6961 - val_accuracy: 0.1143\n",
            "Epoch 2/50\n",
            "12/12 [==============================] - 5s 388ms/step - loss: 2.9060 - accuracy: 0.0896 - val_loss: 2.6572 - val_accuracy: 0.1143\n",
            "Epoch 3/50\n",
            "12/12 [==============================] - 4s 339ms/step - loss: 2.8297 - accuracy: 0.0968 - val_loss: 2.6076 - val_accuracy: 0.1286\n",
            "Epoch 4/50\n",
            "12/12 [==============================] - 6s 431ms/step - loss: 2.7943 - accuracy: 0.1057 - val_loss: 2.5964 - val_accuracy: 0.1500\n",
            "Epoch 5/50\n",
            "12/12 [==============================] - 6s 506ms/step - loss: 2.7922 - accuracy: 0.1004 - val_loss: 2.5352 - val_accuracy: 0.1357\n",
            "Epoch 6/50\n",
            "12/12 [==============================] - 3s 286ms/step - loss: 2.7492 - accuracy: 0.0896 - val_loss: 2.5618 - val_accuracy: 0.1429\n",
            "Epoch 7/50\n",
            "12/12 [==============================] - 5s 465ms/step - loss: 2.7203 - accuracy: 0.0950 - val_loss: 2.4937 - val_accuracy: 0.1000\n",
            "Epoch 8/50\n",
            "12/12 [==============================] - 4s 343ms/step - loss: 2.7152 - accuracy: 0.1057 - val_loss: 2.5061 - val_accuracy: 0.1571\n",
            "Epoch 9/50\n",
            "12/12 [==============================] - 4s 329ms/step - loss: 2.6704 - accuracy: 0.1022 - val_loss: 2.4940 - val_accuracy: 0.1214\n",
            "Epoch 10/50\n",
            "12/12 [==============================] - 4s 317ms/step - loss: 2.6396 - accuracy: 0.1111 - val_loss: 2.4940 - val_accuracy: 0.1143\n",
            "Epoch 11/50\n",
            "12/12 [==============================] - 4s 348ms/step - loss: 2.6245 - accuracy: 0.1057 - val_loss: 2.4828 - val_accuracy: 0.1500\n",
            "Epoch 12/50\n",
            "12/12 [==============================] - 3s 285ms/step - loss: 2.6510 - accuracy: 0.1129 - val_loss: 2.4836 - val_accuracy: 0.1143\n",
            "Epoch 13/50\n",
            "12/12 [==============================] - 5s 417ms/step - loss: 2.6028 - accuracy: 0.1147 - val_loss: 2.4558 - val_accuracy: 0.1714\n",
            "Epoch 14/50\n",
            "12/12 [==============================] - 5s 426ms/step - loss: 2.5970 - accuracy: 0.0896 - val_loss: 2.4608 - val_accuracy: 0.1357\n",
            "Epoch 15/50\n",
            "12/12 [==============================] - 3s 283ms/step - loss: 2.5756 - accuracy: 0.1039 - val_loss: 2.4580 - val_accuracy: 0.1143\n",
            "Epoch 16/50\n",
            "12/12 [==============================] - 3s 286ms/step - loss: 2.5791 - accuracy: 0.1183 - val_loss: 2.4518 - val_accuracy: 0.1286\n",
            "Epoch 17/50\n",
            "12/12 [==============================] - 3s 284ms/step - loss: 2.5803 - accuracy: 0.1165 - val_loss: 2.4544 - val_accuracy: 0.1857\n",
            "Epoch 18/50\n",
            "12/12 [==============================] - 3s 287ms/step - loss: 2.5469 - accuracy: 0.1147 - val_loss: 2.4464 - val_accuracy: 0.0857\n",
            "Epoch 19/50\n",
            "12/12 [==============================] - 3s 282ms/step - loss: 2.5605 - accuracy: 0.1111 - val_loss: 2.4294 - val_accuracy: 0.1643\n",
            "Epoch 20/50\n",
            "12/12 [==============================] - 4s 295ms/step - loss: 2.5329 - accuracy: 0.1165 - val_loss: 2.4099 - val_accuracy: 0.1286\n",
            "Epoch 21/50\n",
            "12/12 [==============================] - 4s 341ms/step - loss: 2.5473 - accuracy: 0.1075 - val_loss: 2.4477 - val_accuracy: 0.1286\n",
            "Epoch 22/50\n",
            "12/12 [==============================] - 5s 432ms/step - loss: 2.5473 - accuracy: 0.1237 - val_loss: 2.4036 - val_accuracy: 0.1714\n",
            "Epoch 23/50\n",
            "12/12 [==============================] - 5s 400ms/step - loss: 2.5442 - accuracy: 0.1004 - val_loss: 2.4959 - val_accuracy: 0.1286\n",
            "Epoch 24/50\n",
            "12/12 [==============================] - 3s 289ms/step - loss: 2.5474 - accuracy: 0.0932 - val_loss: 2.4158 - val_accuracy: 0.1357\n",
            "Epoch 25/50\n",
            "12/12 [==============================] - 5s 385ms/step - loss: 2.5448 - accuracy: 0.1057 - val_loss: 2.4476 - val_accuracy: 0.1357\n",
            "Epoch 26/50\n",
            "12/12 [==============================] - 4s 304ms/step - loss: 2.5518 - accuracy: 0.1075 - val_loss: 2.4796 - val_accuracy: 0.1357\n",
            "Epoch 27/50\n",
            "12/12 [==============================] - 4s 344ms/step - loss: 2.5334 - accuracy: 0.1057 - val_loss: 2.4360 - val_accuracy: 0.1571\n",
            "Epoch 28/50\n",
            "12/12 [==============================] - 4s 348ms/step - loss: 2.5485 - accuracy: 0.1219 - val_loss: 2.4525 - val_accuracy: 0.1143\n",
            "Epoch 29/50\n",
            "12/12 [==============================] - 5s 428ms/step - loss: 2.5395 - accuracy: 0.1129 - val_loss: 2.4519 - val_accuracy: 0.0929\n",
            "Epoch 30/50\n",
            "12/12 [==============================] - 5s 447ms/step - loss: 2.5482 - accuracy: 0.1183 - val_loss: 2.4480 - val_accuracy: 0.0929\n",
            "Epoch 31/50\n",
            "12/12 [==============================] - 4s 369ms/step - loss: 2.5298 - accuracy: 0.1237 - val_loss: 2.4645 - val_accuracy: 0.1357\n",
            "Epoch 32/50\n",
            "12/12 [==============================] - 4s 323ms/step - loss: 2.5528 - accuracy: 0.1039 - val_loss: 2.4608 - val_accuracy: 0.0929\n",
            "Epoch 33/50\n",
            "12/12 [==============================] - 4s 358ms/step - loss: 2.5406 - accuracy: 0.1039 - val_loss: 2.4436 - val_accuracy: 0.1214\n",
            "Epoch 34/50\n",
            "12/12 [==============================] - 5s 386ms/step - loss: 2.5484 - accuracy: 0.0914 - val_loss: 2.4682 - val_accuracy: 0.1000\n",
            "Epoch 35/50\n",
            "12/12 [==============================] - 4s 333ms/step - loss: 2.5373 - accuracy: 0.1075 - val_loss: 2.4617 - val_accuracy: 0.1071\n",
            "Epoch 36/50\n",
            "12/12 [==============================] - 3s 282ms/step - loss: 2.5494 - accuracy: 0.1057 - val_loss: 2.4596 - val_accuracy: 0.1286\n",
            "Epoch 37/50\n",
            "12/12 [==============================] - 3s 289ms/step - loss: 2.5298 - accuracy: 0.1057 - val_loss: 2.4376 - val_accuracy: 0.1500\n",
            "Epoch 38/50\n",
            "12/12 [==============================] - 3s 283ms/step - loss: 2.5494 - accuracy: 0.0950 - val_loss: 2.4395 - val_accuracy: 0.1571\n",
            "Epoch 39/50\n",
            "12/12 [==============================] - 4s 310ms/step - loss: 2.5503 - accuracy: 0.0824 - val_loss: 2.4260 - val_accuracy: 0.1143\n",
            "Epoch 40/50\n",
            "12/12 [==============================] - 5s 433ms/step - loss: 2.5271 - accuracy: 0.1057 - val_loss: 2.4728 - val_accuracy: 0.1214\n",
            "Epoch 41/50\n",
            "12/12 [==============================] - 3s 290ms/step - loss: 2.5290 - accuracy: 0.1022 - val_loss: 2.4545 - val_accuracy: 0.1214\n",
            "Epoch 42/50\n",
            "12/12 [==============================] - 3s 290ms/step - loss: 2.5302 - accuracy: 0.0896 - val_loss: 2.4443 - val_accuracy: 0.1286\n",
            "Epoch 42: early stopping\n"
          ]
        }
      ]
    },
    {
      "cell_type": "markdown",
      "source": [
        "### Results"
      ],
      "metadata": {
        "id": "MZiZ-IsuoJnB"
      }
    },
    {
      "cell_type": "markdown",
      "source": [
        "Pues como se vio, fue bastante mediocre el modelo. Se me hace que fue debido a que ocupo de mala forma cada arquitectura y que todavía no entiendo del todo con que tipo de dato estoy trabajando, ya que es posible que con este tipo de datos no era adecuado para trabajar con este modelo."
      ],
      "metadata": {
        "id": "z7LvT8obVLb0"
      }
    }
  ]
}